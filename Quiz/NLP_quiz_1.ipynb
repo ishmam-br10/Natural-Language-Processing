{
  "nbformat": 4,
  "nbformat_minor": 0,
  "metadata": {
    "colab": {
      "provenance": []
    },
    "kernelspec": {
      "name": "python3",
      "display_name": "Python 3"
    },
    "language_info": {
      "name": "python"
    }
  },
  "cells": [
    {
      "cell_type": "markdown",
      "source": [
        "\n",
        "Question\n",
        "```\n",
        "You have a sentence\n",
        "\"This isn't the Los Angeles I knew.\"\n",
        "Now Tokenize this sentence using basic rules and logics. There are two conditions\n",
        "- It HAS to be a dictionary word.\n",
        "- You have to maintain the NER like \"Los Angeles\"is a single word.\n",
        "```\n",
        "\n"
      ],
      "metadata": {
        "id": "LuiByCYKkX3S"
      }
    },
    {
      "cell_type": "code",
      "execution_count": 3,
      "metadata": {
        "colab": {
          "base_uri": "https://localhost:8080/"
        },
        "id": "mjmqpyCakURn",
        "outputId": "91156f46-12e1-4195-ee62-4a699ef32931"
      },
      "outputs": [
        {
          "output_type": "stream",
          "name": "stdout",
          "text": [
            "This\n",
            "is\n",
            "not\n",
            "the\n",
            "Los Angeles\n",
            "I\n",
            "knew\n"
          ]
        }
      ],
      "source": [
        "#@title Answer\n",
        "\n",
        "sentence = \"This isn't the Los Angeles I knew.\"\n",
        "tokens=[]\n",
        "sentence = sentence.replace(\".\", \"\")\n",
        "f_tok = sentence.split(\" \")\n",
        "for i in range(len(f_tok)):\n",
        "  if f_tok[i] == \"Angeles\":\n",
        "    pass\n",
        "  elif f_tok[i][0].isupper() and f_tok[i+1][0].isupper():\n",
        "    tokens.append(f\"{f_tok[i]} {f_tok[i+1]}\")\n",
        "  elif f_tok[i] == \"isn't\":\n",
        "    tokens.append(\"is\")\n",
        "    tokens.append(\"not\")\n",
        "  else:\n",
        "    tokens.append(f_tok[i])\n",
        "\n",
        "for i in tokens:\n",
        "  print(i)"
      ]
    }
  ]
}